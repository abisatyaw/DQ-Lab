{
 "metadata": {
  "language_info": {
   "codemirror_mode": {
    "name": "ipython",
    "version": 3
   },
   "file_extension": ".py",
   "mimetype": "text/x-python",
   "name": "python",
   "nbconvert_exporter": "python",
   "pygments_lexer": "ipython3",
   "version": "3.9.2"
  },
  "orig_nbformat": 2,
  "kernelspec": {
   "name": "python3",
   "display_name": "Python 3.9.2 64-bit",
   "metadata": {
    "interpreter": {
     "hash": "576538dbdbd2673c80eafab198b68335b56c31f29e9bf724a06a61be910f96cc"
    }
   }
  }
 },
 "nbformat": 4,
 "nbformat_minor": 2,
 "cells": [
  {
   "source": [
    "# Read Dataset CSV and TSV\n",
    "**.read_csv()** digunakan untuk membaca file yang value nya dipisahkan oleh comma (default), terkadang pemisah value nya bisa di set ‘\\t’ untuk file tsv (tab separated values)."
   ],
   "cell_type": "markdown",
   "metadata": {}
  },
  {
   "cell_type": "code",
   "execution_count": 30,
   "metadata": {},
   "outputs": [
    {
     "output_type": "stream",
     "name": "stdout",
     "text": [
      "   order_id  order_date  customer_id             city     province product_id  \\\n",
      "0   1612339  2019-01-01        18055  Jakarta Selatan  DKI Jakarta      P0648   \n",
      "1   1612339  2019-01-01        18055  Jakarta Selatan  DKI Jakarta      P3826   \n",
      "2   1612339  2019-01-01        18055  Jakarta Selatan  DKI Jakarta      P1508   \n",
      "\n",
      "     brand  quantity  item_price  \n",
      "0  BRAND_C         4     1934000  \n",
      "1  BRAND_V         8      604000  \n",
      "2  BRAND_G        12      747000  \n",
      "   order_id  order_date  customer_id             city     province product_id  \\\n",
      "0   1612339  2019-01-01        18055  Jakarta Selatan  DKI Jakarta      P0648   \n",
      "1   1612339  2019-01-01        18055  Jakarta Selatan  DKI Jakarta      P3826   \n",
      "2   1612339  2019-01-01        18055  Jakarta Selatan  DKI Jakarta      P1508   \n",
      "\n",
      "     brand  quantity  item_price  \n",
      "0  BRAND_C         4     1934000  \n",
      "1  BRAND_V         8      604000  \n",
      "2  BRAND_G        12      747000  \n"
     ]
    }
   ],
   "source": [
    "import pandas as pd\n",
    "# File CSV\n",
    "df_csv = pd.read_csv(\"https://storage.googleapis.com/dqlab-dataset/sample_csv.csv\")\n",
    "print(df_csv.head(3)) # Menampilkan 3 data teratas\n",
    "# File TSV\n",
    "df_tsv = pd.read_csv(\"https://storage.googleapis.com/dqlab-dataset/sample_tsv.tsv\", sep='\\t')\n",
    "print(df_tsv.head(3)) # Menampilkan 3 data teratas"
   ]
  },
  {
   "source": [
    "# Read Dataset - Excel\n",
    "File Excel dengan ekstensi *.xls atau *.xlsx cukup banyak digunakan dalam menyimpan data. Pandas juga memiliki fitur untuk membaca file excel.\n",
    "\n",
    "Fungsi **.read_excel()** digunakan untuk membaca file excel menjadi dataframe pandas."
   ],
   "cell_type": "markdown",
   "metadata": {}
  },
  {
   "source": [
    "pip install openpyxl"
   ],
   "cell_type": "markdown",
   "metadata": {}
  },
  {
   "cell_type": "code",
   "execution_count": 33,
   "metadata": {},
   "outputs": [
    {
     "output_type": "stream",
     "name": "stdout",
     "text": [
      "   order_id  order_date  customer_id             city     province product_id  \\\n0   1612339  2019-01-01        18055  Jakarta Selatan  DKI Jakarta      P0648   \n1   1612339  2019-01-01        18055  Jakarta Selatan  DKI Jakarta      P3826   \n2   1612339  2019-01-01        18055  Jakarta Selatan  DKI Jakarta      P1508   \n3   1612339  2019-01-01        18055  Jakarta Selatan  DKI Jakarta      P0520   \n\n     brand  quantity  item_price  \n0  BRAND_C         4     1934000  \n1  BRAND_V         8      604000  \n2  BRAND_G        12      747000  \n3  BRAND_B        12      450000  \n"
     ]
    }
   ],
   "source": [
    "import pandas as pd\n",
    "# File xlsx dengan data di sheet \"test\"\n",
    "df_excel = pd.read_excel(\"sample_excel.xlsx\", sheet_name=\"test\")\n",
    "print(df_excel.head(4)) # Menampilkan 4 data teratas"
   ]
  },
  {
   "source": [
    "# Read Dataset JSON\n",
    "Method .read_json() membaca URL API dan merubahnya menjadi dataframe pandas. Method ini dapat digunakan seperti yang dicontohkan berikut ini:"
   ],
   "cell_type": "markdown",
   "metadata": {}
  },
  {
   "cell_type": "code",
   "execution_count": 34,
   "metadata": {},
   "outputs": [
    {
     "output_type": "stream",
     "name": "stdout",
     "text": [
      "                                                data          dt          ts\n0  {'location': 'US', 'confirmed': 3363056, 'deat...  07-14-2020  1594684800\n1  {'location': 'Brazil', 'confirmed': 1884967, '...  07-14-2020  1594684800\n2  {'location': 'India', 'confirmed': 906752, 'de...  07-14-2020  1594684800\n3  {'location': 'Russia', 'confirmed': 732547, 'd...  07-14-2020  1594684800\n4  {'location': 'Peru', 'confirmed': 330123, 'dea...  07-14-2020  1594684800\n5  {'location': 'Chile', 'confirmed': 317657, 'de...  07-14-2020  1594684800\n6  {'location': 'Mexico', 'confirmed': 304435, 'd...  07-14-2020  1594684800\n7  {'location': 'United Kingdom', 'confirmed': 29...  07-14-2020  1594684800\n8  {'location': 'South Africa', 'confirmed': 2877...  07-14-2020  1594684800\n9  {'location': 'Iran', 'confirmed': 259652, 'dea...  07-14-2020  1594684800\n"
     ]
    }
   ],
   "source": [
    "import pandas as pd\n",
    "# File JSON\n",
    "url =\"https://storage.googleapis.com/dqlab-dataset/covid2019-api-herokuapp-v2.json\"\n",
    "df_json = pd.read_json(url)\n",
    "print(df_json.head(10)) # Menampilkan 10 data teratas"
   ]
  },
  {
   "source": [
    "# Read Dataset - SQL and GBQ\n",
    "Fungsi .read_sql() atau .read_sql_query() digunakan untuk membaca query dari database dan translate menjadi pandas dataframe, contoh case ini database sqlite.\n",
    "\n",
    "Untuk data yang besar (big data), umumnya digunakan Google BigQuery. Layanan ini dapat digunakan jika telah memiliki Google BigQuery account.\n",
    "Fungsi .read_gbq() digunakan untuk membaca Google BigQuery table menjadi dataframe pandas.\n"
   ],
   "cell_type": "markdown",
   "metadata": {}
  },
  {
   "source": [
    "# Write Dataset\n",
    "## .to_csv()\n",
    "    → digunakan untuk export dataframe kembali ke csv atau tsv\n",
    "## .to_clipboard()\n",
    "    → export dataframe menjadi bahan copy jadi nanti bisa tinggal klik paste di excel atau google sheets\n",
    "## .to_excel()\n",
    "→ export dataframe menjadi file excel\n",
    "## .to_gbq()\n",
    "→ export dataframe menjadi table di Google BigQuery"
   ],
   "cell_type": "markdown",
   "metadata": {}
  },
  {
   "cell_type": "code",
   "execution_count": 35,
   "metadata": {},
   "outputs": [
    {
     "output_type": "stream",
     "name": "stdout",
     "text": [
      "Tiga data teratas:\n    order_id  order_date  customer_id             city     province product_id  \\\n0   1612339  2019-01-01        18055  Jakarta Selatan  DKI Jakarta      P0648   \n1   1612339  2019-01-01        18055  Jakarta Selatan  DKI Jakarta      P3826   \n2   1612339  2019-01-01        18055  Jakarta Selatan  DKI Jakarta      P1508   \n\n     brand  quantity  item_price  \n0  BRAND_C         4     1934000  \n1  BRAND_V         8      604000  \n2  BRAND_G        12      747000  \nTiga data terbawah:\n      order_id  order_date  customer_id      city          province product_id  \\\n98    1612390  2019-01-01        12681  Makassar  Sulawesi Selatan      P3354   \n99    1612390  2019-01-01        12681  Makassar  Sulawesi Selatan      P3357   \n100   1612390  2019-01-01        12681  Makassar  Sulawesi Selatan      P0422   \n\n       brand  quantity  item_price  \n98   BRAND_S        24      450000  \n99   BRAND_S        24      450000  \n100  BRAND_B         4     1325000  \n"
     ]
    }
   ],
   "source": [
    "import pandas as pd\n",
    "# Baca file sample_csv.csv\n",
    "df = pd.read_csv(\"https://storage.googleapis.com/dqlab-dataset/sample_csv.csv\")\n",
    "# Tampilkan 3 data teratas\n",
    "print(\"Tiga data teratas:\\n\", df.head(3))\n",
    "# Tampilkan 3 data terbawah\n",
    "print(\"Tiga data terbawah:\\n\", df.tail(3))"
   ]
  },
  {
   "source": [
    "# Indexing\n",
    "Index merupakan key identifier dari tiap row/column untuk Series atau Dataframe \n",
    "Jika tidak disediakan, pandas akan membuat kolom index default secara otomatis sebagai bilangan bulat (integer) dari 0 sampai range jumlah baris data tersebut."
   ],
   "cell_type": "markdown",
   "metadata": {}
  },
  {
   "cell_type": "code",
   "execution_count": 36,
   "metadata": {},
   "outputs": [
    {
     "output_type": "stream",
     "name": "stdout",
     "text": [
      "Index: RangeIndex(start=0, stop=101, step=1)\nColumns: Index(['order_id', 'order_date', 'customer_id', 'city', 'province',\n       'product_id', 'brand', 'quantity', 'item_price'],\n      dtype='object')\n"
     ]
    }
   ],
   "source": [
    "import pandas as pd\n",
    "# Baca file TSV sample_tsv.tsv\n",
    "df = pd.read_csv(\"https://storage.googleapis.com/dqlab-dataset/sample_tsv.tsv\", sep=\"\\t\")\n",
    "# Index dari df\n",
    "print(\"Index:\", df.index)\n",
    "# Column dari df\n",
    "print(\"Columns:\", df.columns)"
   ]
  },
  {
   "cell_type": "code",
   "execution_count": 37,
   "metadata": {},
   "outputs": [
    {
     "output_type": "stream",
     "name": "stdout",
     "text": [
      "order_date : Index(['2019-01-01'], dtype='object', name='order_date')\ncity : Index(['Bogor', 'Jakarta Pusat', 'Jakarta Selatan', 'Jakarta Utara',\n       'Makassar', 'Malang', 'Surabaya', 'Tangerang'],\n      dtype='object', name='city')\ncustomer_id : Int64Index([12681, 13963, 15649, 17091, 17228, 17450, 17470, 17511, 17616,\n            18055],\n           dtype='int64', name='customer_id')\n"
     ]
    }
   ],
   "source": [
    "import pandas as pd\n",
    "# Baca file TSV sample_tsv.tsv\n",
    "df = pd.read_csv(\"https://storage.googleapis.com/dqlab-dataset/sample_tsv.tsv\", sep = \"\\t\")\n",
    "# Set multi index df\n",
    "df_x = df.set_index(['order_date', 'city', 'customer_id'])\n",
    "# Print nama dan level dari multi index\n",
    "for name, level in zip(df_x.index.names, df_x.index.levels):\n",
    "    print(name,':',level)"
   ]
  },
  {
   "cell_type": "code",
   "execution_count": null,
   "metadata": {},
   "outputs": [],
   "source": [
    "import pandas as pd\n",
    "# Baca file sample_tsv.tsv untuk 10 baris pertama saja\n",
    "df = pd.read_csv(\"https://storage.googleapis.com/dqlab-dataset/sample_tsv.tsv\", sep = \"\\t\", nrows=10)\n",
    "# Cetak data frame awal\n",
    "print(\"Dataframe awal:\\n\", df)\n",
    "# Set index baru\n",
    "df.index = [\"Pesanan ke-\" + str(i) for i in range(1, 11)]\n",
    "# Cetak data frame dengan index baru\n",
    "print(\"Dataframe dengan index baru:\\n\", df.index)"
   ]
  },
  {
   "cell_type": "code",
   "execution_count": 21,
   "metadata": {},
   "outputs": [
    {
     "output_type": "stream",
     "name": "stdout",
     "text": [
      "Dataframe:\n                      customer_id             city     province product_id  \\\norder_date order_id                                                         \n2019-01-01 1612339         18055  Jakarta Selatan  DKI Jakarta      P0648   \n           1612339         18055  Jakarta Selatan  DKI Jakarta      P3826   \n           1612339         18055  Jakarta Selatan  DKI Jakarta      P1508   \n           1612339         18055  Jakarta Selatan  DKI Jakarta      P0520   \n           1612339         18055  Jakarta Selatan  DKI Jakarta      P1513   \n           1612339         18055  Jakarta Selatan  DKI Jakarta      P3911   \n           1612339         18055  Jakarta Selatan  DKI Jakarta      P1780   \n           1612339         18055  Jakarta Selatan  DKI Jakarta      P3132   \n\n                       brand  quantity  item_price  \norder_date order_id                                 \n2019-01-01 1612339   BRAND_C         4     1934000  \n           1612339   BRAND_V         8      604000  \n           1612339   BRAND_G        12      747000  \n           1612339   BRAND_B        12      450000  \n           1612339   BRAND_G         3     1500000  \n           1612339   BRAND_V         3     2095000  \n           1612339   BRAND_H         3     2095000  \n           1612339   BRAND_S         3     1745000  \n"
     ]
    }
   ],
   "source": [
    "import pandas as pd\n",
    "# Baca file sample_tsv.tsv dan set lah index_col sesuai instruksi\n",
    "df = pd.read_csv(\"sample_tsv.tsv\", sep=\"\\t\", index_col=[\"order_date\",\"order_id\"])\n",
    "# Cetak data frame untuk 8 data teratas\n",
    "print(\"Dataframe:\\n\", df.head(8))"
   ]
  },
  {
   "source": [
    "# Slicing\n",
    "Seperti artinya slicing adalah cara untuk melakukan filter ke dataframe/series berdasarkan kriteria tertentu dari nilai kolomnya ataupun kriteria index-nya.\n",
    "\n",
    "Terdapat 2 cara paling terkenal untuk slicing dataframe, yaitu dengan menggunakan method .loc dan .iloc pada variabel bertipe pandas DataFrame/Series. Method .iloc ditujukan untuk proses slicing berdasarkan index berupa nilai integer tertentu. Akan tetapi akan lebih sering menggunakan dengan method .loc karena lebih fleksibel. "
   ],
   "cell_type": "markdown",
   "metadata": {}
  },
  {
   "source": [
    "Baca kembali file TSV \"sample_csv.csv\" dan slice/filter-lah dataset jika customer_id adalah 18055 dan product_id-nya yaitu P0029, P0040, P0041, P0116, dan P0117. "
   ],
   "cell_type": "markdown",
   "metadata": {}
  },
  {
   "cell_type": "code",
   "execution_count": 23,
   "metadata": {},
   "outputs": [
    {
     "output_type": "stream",
     "name": "stdout",
     "text": [
      "Slice langsung berdasarkan kolom:\n Empty DataFrame\nColumns: [order_id, order_date, customer_id, city, province, product_id, brand, quantity, item_price]\nIndex: []\n"
     ]
    }
   ],
   "source": [
    "import pandas as pd\n",
    "# Baca file sample_csv.csv\n",
    "df = pd.read_csv(\"https://storage.googleapis.com/dqlab-dataset/sample_csv.csv\")\n",
    "# Slice langsung berdasarkan kolom\n",
    "df_slice = df.loc[(df[\"customer_id\"] == \"18055\") &\n",
    "\t\t          (df[\"product_id\"].isin([\"P0029\", \"P0040\", \"P0041\", \"P0116\",\"P0117\"]))\n",
    "\t\t\t\t ]\n",
    "print(\"Slice langsung berdasarkan kolom:\\n\", df_slice)"
   ]
  },
  {
   "cell_type": "code",
   "execution_count": null,
   "metadata": {},
   "outputs": [],
   "source": []
  },
  {
   "source": [
    "Baca kembali file TSV \"sample_csv.csv\" dan set terlebih dahulu indexnya yaitu order_date, order_id, dan product_id. Kemudian slice/filter-lah dataset jika order_date adalah 2019-01-01, order_id adalah 1612339 dan product_id-nya yaitu P2154 dan P2159. Gunakanlah cara pertama."
   ],
   "cell_type": "markdown",
   "metadata": {}
  },
  {
   "cell_type": "code",
   "execution_count": 25,
   "metadata": {},
   "outputs": [
    {
     "output_type": "stream",
     "name": "stdout",
     "text": [
      "Slice df:\n                                 customer_id             city     province  \\\norder_date order_id product_id                                              \n2019-01-01 1612339  P2154             18055  Jakarta Selatan  DKI Jakarta   \n                    P2159             18055  Jakarta Selatan  DKI Jakarta   \n\n                                  brand  quantity  item_price  \norder_date order_id product_id                                 \n2019-01-01 1612339  P2154       BRAND_M         4     1745000  \n                    P2159       BRAND_M        24      310000  \n"
     ]
    }
   ],
   "source": [
    "import pandas as pd\n",
    "# Baca file sample_csv.csv\n",
    "df = pd.read_csv(\"https://storage.googleapis.com/dqlab-dataset/sample_csv.csv\")\n",
    "# Set index dari df sesuai instruksi\n",
    "df = df.set_index([\"order_date\",\"order_id\",\"product_id\"])\n",
    "# Slice sesuai intruksi\n",
    "df_slice = df.loc[(\"2019-01-01\",1612339,[\"P2154\",\"P2159\"]),:]\n",
    "print(\"Slice df:\\n\", df_slice)"
   ]
  },
  {
   "source": [
    "# Transforming\n",
    "ransform adalah ketika mengubah dataset yang ada menjadi entitas baru, dapat dilakukan dengan\n",
    "\n",
    "konversi dari satu data type ke data type yang lain,\n",
    "transpose dataframe\n",
    "atau yang lainnya."
   ],
   "cell_type": "markdown",
   "metadata": {}
  },
  {
   "source": [
    "Ubahlah tipe data di kolom order_date yang semula bertipe objek menjadi bertipe datetime.\n",
    "\n",
    "Di code editor telah disediakan kode yang tidak lengkap, silakan diisi sesuai dengan instruksi yang diberikan. \n",
    "\n",
    "Jika dengan benar dituliskan dan berhasil dijalankan maka output berikut yang akan diperoleh pada console."
   ],
   "cell_type": "markdown",
   "metadata": {}
  },
  {
   "cell_type": "code",
   "execution_count": 27,
   "metadata": {},
   "outputs": [
    {
     "output_type": "stream",
     "name": "stdout",
     "text": [
      "Tipe data df:\n order_id        int64\norder_date     object\ncustomer_id     int64\ncity           object\nprovince       object\nproduct_id     object\nbrand          object\nquantity        int64\nitem_price      int64\ndtype: object\n\nTipe data df setelah transformasi:\n order_id                int64\norder_date     datetime64[ns]\ncustomer_id             int64\ncity                   object\nprovince               object\nproduct_id             object\nbrand                  object\nquantity                int64\nitem_price              int64\ndtype: object\n"
     ]
    }
   ],
   "source": [
    "import pandas as pd\n",
    "# Baca file sample_csv.csv\n",
    "df = pd.read_csv(\"https://storage.googleapis.com/dqlab-dataset/sample_csv.csv\")\n",
    "# Tampilkan tipe data\n",
    "print(\"Tipe data df:\\n\", df.dtypes)\n",
    "# Ubah tipe data kolom order_date menjadi datetime\n",
    "df[\"order_date\"] = pd.to_datetime(df[\"order_date\"])\n",
    "# Tampilkan tipe data df setelah transformasi\n",
    "print(\"\\nTipe data df setelah transformasi:\\n\", df.dtypes)"
   ]
  },
  {
   "source": [
    "Ubahlah tipe data di kolom\n",
    "\n",
    "quantity yang semula bertipe int64 menjadi bertipe float32, \n",
    "Secara umum, untuk merubah ke numerik dapat menggunakan pd.to_numeric(), yaitu\n",
    "#### __nama_dataframe\\[\"nama_kolom\"] = pd.to_numeric(nama_dataframe\\[\"nama_kolom\"], downcast=\"tipe_data_baru\")__\n",
    "\n",
    "city yang semula bertipe object menjadi bertipe category\n",
    "Sedangkan untuk menjadi suatu kolom yang dapat dinyatakan sebagai kategory dapat menggunakan method .astype() pada dataframe\n",
    "#### __nama_dataframe\\[\"nama_kolom\"] = nama_dataframe\\[\"nama_kolom\"].astype(\"category\")__"
   ],
   "cell_type": "markdown",
   "metadata": {}
  },
  {
   "cell_type": "code",
   "execution_count": 29,
   "metadata": {},
   "outputs": [
    {
     "output_type": "stream",
     "name": "stdout",
     "text": [
      "Tipe data df:\n order_id        int64\norder_date     object\ncustomer_id     int64\ncity           object\nprovince       object\nproduct_id     object\nbrand          object\nquantity        int64\nitem_price      int64\ndtype: object\n\nTipe data df setelah transformasi:\n order_id          int64\norder_date       object\ncustomer_id       int64\ncity           category\nprovince         object\nproduct_id       object\nbrand            object\nquantity        float32\nitem_price        int64\ndtype: object\n"
     ]
    }
   ],
   "source": [
    "import pandas as pd\n",
    "# Baca file sample_csv.csv\n",
    "df = pd.read_csv(\"https://storage.googleapis.com/dqlab-dataset/sample_csv.csv\")\n",
    "# Tampilkan tipe data\n",
    "print(\"Tipe data df:\\n\", df.dtypes)\n",
    "# Ubah tipe data kolom quantity menjadi tipe data numerik float\n",
    "df[\"quantity\"] = pd.to_numeric(df[\"quantity\"],downcast=\"float\")\n",
    "# Ubah tipe data kolom city menjadi tipe data category\n",
    "df[\"city\"] = df[\"city\"].astype(\"category\")\n",
    "# Tampilkan tipe data df setelah transformasi\n",
    "print(\"\\nTipe data df setelah transformasi:\\n\", df.dtypes)"
   ]
  },
  {
   "source": [
    "#### Method .apply() \n",
    "digunakan untuk menerapkan suatu fungsi python (yang dibuat dengan def atau anonymous dengan lambda) pada dataframe/series atau hanya kolom tertentu dari dataframe. \n",
    "\n",
    "#### Method .map() \n",
    "hanya dapat diterapkan pada series atau dataframe yang diakses satu kolom saja. Method ini digunakan untuk mensubstitusikan suatu nilai ke dalam tiap baris datanya."
   ],
   "cell_type": "markdown",
   "metadata": {}
  },
  {
   "cell_type": "code",
   "execution_count": 32,
   "metadata": {},
   "outputs": [
    {
     "output_type": "stream",
     "name": "stdout",
     "text": [
      "Kolom brand awal:\n 0    BRAND_C\n1    BRAND_V\n2    BRAND_G\n3    BRAND_B\n4    BRAND_G\nName: brand, dtype: object\nKolom brand setelah apply:\n 0    brand_c\n1    brand_v\n2    brand_g\n3    brand_b\n4    brand_g\nName: brand, dtype: object\nKolom brand setelah map:\n 0    c\n1    v\n2    g\n3    b\n4    g\nName: brand, dtype: object\n"
     ]
    }
   ],
   "source": [
    "import pandas as pd\n",
    "# Baca file sample_csv.csv\n",
    "df = pd.read_csv(\"https://storage.googleapis.com/dqlab-dataset/sample_csv.csv\")\n",
    "# Cetak 5 baris teratas kolom brand\n",
    "print(\"Kolom brand awal:\\n\", df[\"brand\"].head())\n",
    "# Gunakan method apply untuk merubah isi kolom menjadi lower case\n",
    "df[\"brand\"] = df[\"brand\"].apply(lambda x: x.lower())\n",
    "# Cetak 5 baris teratas kolom brand\n",
    "print(\"Kolom brand setelah apply:\\n\", df[\"brand\"].head())\n",
    "# Gunakan method map untuk mengambil kode brand yaitu karakter terakhirnya\n",
    "df[\"brand\"] = df[\"brand\"].map(lambda x: x[-1])\n",
    "# Cetak 5 baris teratas kolom brand\n",
    "print(\"Kolom brand setelah map:\\n\", df[\"brand\"].head())"
   ]
  },
  {
   "source": [
    "uatlah matriks random ukuran 3 x 4 dengan seed randomnya 1234. Kemudian rubah seluruh isi dengan fungsi kuadrat x**2 + 3*x + 2"
   ],
   "cell_type": "markdown",
   "metadata": {}
  },
  {
   "cell_type": "code",
   "execution_count": 40,
   "metadata": {},
   "outputs": [
    {
     "output_type": "stream",
     "name": "stdout",
     "text": [
      "Dataframe:\n           0         1         2         3\n0  0.191519  0.622109  0.437728  0.785359\n1  0.779976  0.272593  0.276464  0.801872\n2  0.958139  0.875933  0.357817  0.500995\n\nDataframe - cara 1:\n           0         1         2         3\n0  2.611238  4.253346  3.504789  4.972864\n1  4.948290  2.892085  2.905825  5.048616\n2  5.792449  5.395056  3.201485  3.753981\n\nDataframe - cara 2:\n           0         1         2         3\n0  2.611238  4.253346  3.504789  4.972864\n1  4.948290  2.892085  2.905825  5.048616\n2  5.792449  5.395056  3.201485  3.753981\n"
     ]
    }
   ],
   "source": [
    "import numpy as np\n",
    "import pandas as pd\n",
    "# number generator, set angka seed menjadi suatu angka, bisa semua angka, supaya hasil random nya selalu sama ketika kita run\n",
    "np.random.seed(1234)\n",
    "# create dataframe 3 baris dan 4 kolom dengan angka random\n",
    "df_tr = pd.DataFrame(np.random.rand(3,4))\n",
    "# Cetak dataframe\n",
    "print(\"Dataframe:\\n\", df_tr)\n",
    "# Cara 1 dengan tanpa define function awalnya, langsung pake fungsi anonymous lambda x\n",
    "df_tr1 = df_tr.applymap(lambda x: x**2+3*x+2) \n",
    "print(\"\\nDataframe - cara 1:\\n\", df_tr1)\n",
    "# Cara 2 dengan define function \n",
    "def qudratic_fun(x):\n",
    "\treturn x**2+3*x+2\n",
    "df_tr2 = df_tr.applymap(qudratic_fun)\n",
    "print(\"\\nDataframe - cara 2:\\n\", df_tr2)"
   ]
  },
  {
   "cell_type": "code",
   "execution_count": null,
   "metadata": {},
   "outputs": [],
   "source": []
  }
 ]
}