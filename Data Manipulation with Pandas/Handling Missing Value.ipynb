{
 "metadata": {
  "language_info": {
   "codemirror_mode": {
    "name": "ipython",
    "version": 3
   },
   "file_extension": ".py",
   "mimetype": "text/x-python",
   "name": "python",
   "nbconvert_exporter": "python",
   "pygments_lexer": "ipython3",
   "version": "3.9.2"
  },
  "orig_nbformat": 2,
  "kernelspec": {
   "name": "python3",
   "display_name": "Python 3.9.2 64-bit",
   "metadata": {
    "interpreter": {
     "hash": "576538dbdbd2673c80eafab198b68335b56c31f29e9bf724a06a61be910f96cc"
    }
   }
  }
 },
 "nbformat": 4,
 "nbformat_minor": 2,
 "cells": [
  {
   "source": [
    "# Inspeksi Missing Value\n",
    "Data COVID-19 yang akan digunakan ini diambil dari google big query, tetapi sudah disediakan datasetnya dalam format csv dengan nama \"public data covid19 jhu csse eu.csv\". Ini adalah studi kasus untuk meng-handle missing value.\n",
    "\n",
    "Di pandas data yang hilang umumnya direpresentasikan dengan NaN.\n",
    "\n",
    "1. menerapkan method .info() \n",
    "1. mengetahui berapa banyak nilai hilang dari tiap kolom di dataset tersebut dengan menerapkan chaining method pada dataframe yaitu .isna().sum(). Method .isna() digunakan untuk mengecek berapa data yang bernilai NaN dan .sum() menjumlahkannya secara default untuk masing-masing kolom dataframe"
   ],
   "cell_type": "markdown",
   "metadata": {}
  },
  {
   "cell_type": "code",
   "execution_count": 3,
   "metadata": {},
   "outputs": [
    {
     "output_type": "stream",
     "name": "stdout",
     "text": [
      "<class 'pandas.core.frame.DataFrame'>\nRangeIndex: 1000 entries, 0 to 999\nData columns (total 13 columns):\n #   Column          Non-Null Count  Dtype  \n---  ------          --------------  -----  \n 0   province_state  960 non-null    object \n 1   country_region  1000 non-null   object \n 2   date            1000 non-null   object \n 3   latitude        874 non-null    float64\n 4   longitude       874 non-null    float64\n 5   location_geom   874 non-null    object \n 6   confirmed       1000 non-null   int64  \n 7   deaths          999 non-null    float64\n 8   recovered       999 non-null    float64\n 9   active          949 non-null    float64\n 10  fips            949 non-null    float64\n 11  admin2          842 non-null    object \n 12  combined_key    0 non-null      float64\ndtypes: float64(7), int64(1), object(5)\nmemory usage: 101.7+ KB\nNone\n\n jumlah missing value per kolom: \n province_state      40\ncountry_region       0\ndate                 0\nlatitude           126\nlongitude          126\nlocation_geom      126\nconfirmed            0\ndeaths               1\nrecovered            1\nactive              51\nfips                51\nadmin2             158\ncombined_key      1000\ndtype: int64\n"
     ]
    }
   ],
   "source": [
    "import pandas as pd\n",
    "# Baca file \"public data covid19 jhu csse eu.csv\"\n",
    "df = pd.read_csv(\"https://storage.googleapis.com/dqlab-dataset/CHAPTER%204%20-%20missing%20value%20-%20public%20data%20covid19%20.csv\")\n",
    "# Cetak info dari df\n",
    "print(df.info())\n",
    "# Cetak jumlah missing value di setiap kolom\n",
    "mv = df.isna().sum()\n",
    "print(\"\\n jumlah missing value per kolom: \\n\", mv)"
   ]
  },
  {
   "source": [
    "Terdapat beberapa cara untuk mengatasi missing value, antara lain:\n",
    "\n",
    "1. dibiarkan saja,\n",
    "1. hapus value itu, atau\n",
    "1. isi value tersebut dengan value yang lain (biasanya interpolasi, mean, median, etc)"
   ],
   "cell_type": "markdown",
   "metadata": {}
  },
  {
   "source": [
    "#### Cetaklah ukuran awal dari dataframe dengan attribut .shape pada dataframe yang telah dibaca.\n",
    "\n",
    "1.  Buanglah kolom jika memiliki seluruh data adalah missing value, kemudian cetaklah ukurannya.\n",
    "\n",
    "2. Dari dataframe hasil langkah kedua buanglah baris-baris yang setidaknya memilki satu saja missing value, dan cetak kembali ukurannya.\n",
    "\n",
    "Pada method .dropna() ada dua keyword argumen yang harus diisikan yaitu axis dan how. \n",
    "\n",
    "Keyword __axis__ digunakan untuk menentukan arah dataframe yang akan dibuang angka 1 untuk menyatakan kolom (column-based) atau dapat ditulis dalam string \"column\". Jika digunakan angka 0 berarti itu dalam searah index (row-based) atau dapat ditulis dalam string \"index\".\n",
    "\n",
    "Sementara, keyword __how__ digunakan untuk bagaimana cara membuangnya. Opsi yang dapat diterimanya (dalam string) adalah\n",
    "\"all\" artinya jika seluruh data di satu/beberapa kolom atau di satu/beberapa baris adalah missing value.\n",
    "\"any\" artinya jika memiliki 1 saja data yang hilang maka buanglah baris/kolom tersebut."
   ],
   "cell_type": "markdown",
   "metadata": {}
  },
  {
   "cell_type": "code",
   "execution_count": 5,
   "metadata": {},
   "outputs": [
    {
     "output_type": "stream",
     "name": "stdout",
     "text": [
      "Ukuran awal df: 1000 baris, 13 kolom.\nUkuran df setelah buang kolom dengan seluruh data missing: 1000 baris, 12 kolom.\nUkuran df setelah dibuang baris yang memiliki sekurangnya 1 missing value: 746 baris, 12 kolom.\n"
     ]
    }
   ],
   "source": [
    "import pandas as pd\n",
    "# Baca file \"public data covid19 jhu csse eu.csv\"\n",
    "df = pd.read_csv(\"https://storage.googleapis.com/dqlab-dataset/CHAPTER%204%20-%20missing%20value%20-%20public%20data%20covid19%20.csv\")\n",
    "# Cetak ukuran awal dataframe\n",
    "print(\"Ukuran awal df: %d baris, %d kolom.\" % df.shape)\n",
    "# Drop kolom yang seluruhnya missing value dan cetak ukurannya\n",
    "df = df.dropna(axis=1, how=\"all\")\n",
    "print(\"Ukuran df setelah buang kolom dengan seluruh data missing: %d baris, %d kolom.\" % df.shape)\n",
    "# Drop baris jika ada satu saja data yang missing dan cetak ukurannya\n",
    "df = df.dropna(axis=0, how=\"any\")\n",
    "print(\"Ukuran df setelah dibuang baris yang memiliki sekurangnya 1 missing value: %d baris, %d kolom.\" % df.shape)"
   ]
  },
  {
   "source": [
    "#### treatment ketiga. Treatment ini dilakukan dengan cara mengisi missing value dengan nilai lain, yang dapat berupa :\n",
    "\n",
    "1. nilai statistik seperti mean atau median\n",
    "1. interpolasi data\n",
    "1. text tertentu\n",
    "\n",
    "isilah missing value dengan string \"unknown_province_state\"."
   ],
   "cell_type": "markdown",
   "metadata": {}
  },
  {
   "cell_type": "code",
   "execution_count": 6,
   "metadata": {},
   "outputs": [
    {
     "output_type": "stream",
     "name": "stdout",
     "text": [
      "Unique value awal:\n [nan 'US' 'Guam' 'Iowa']\nUnique value setelah fillna:\n ['unknown_province_state' 'US' 'Guam' 'Iowa']\n"
     ]
    }
   ],
   "source": [
    "import pandas as pd\n",
    "# Baca file \"public data covid19 jhu csse eu.csv\"\n",
    "df = pd.read_csv(\"https://storage.googleapis.com/dqlab-dataset/CHAPTER%204%20-%20missing%20value%20-%20public%20data%20covid19%20.csv\")\n",
    "# Cetak unique value pada kolom province_state\n",
    "print(\"Unique value awal:\\n\", df[\"province_state\"].unique())\n",
    "# Ganti missing value dengan string \"unknown_province_state\"\n",
    "df[\"province_state\"] = df[\"province_state\"].fillna(\"unknown_province_state\")\n",
    "# Cetak kembali unique value pada kolom province_state\n",
    "print(\"Unique value setelah fillna:\\n\", df[\"province_state\"].unique())"
   ]
  },
  {
   "source": [
    "#### mengganti missing value dengan nilai statistik kolom bersangkutan, baik median atau mean (nilai rata-rata)\n",
    "\n",
    "Carilah perbedaan nilai mean dan median kolom active untuk kondisi sebelum dan setelah missing valuenya diisi masing-masingnya dengan median dan mean."
   ],
   "cell_type": "markdown",
   "metadata": {}
  },
  {
   "cell_type": "code",
   "execution_count": 15,
   "metadata": {},
   "outputs": [
    {
     "output_type": "stream",
     "name": "stdout",
     "text": [
      "Awal: mean = 192.571128, median = 41.000000.\nFillna median: mean = 184.841000, median = 41.000000.\nFillna mean: mean = 192.571128, median = 49.000000.\n"
     ]
    }
   ],
   "source": [
    "import pandas as pd\n",
    "# Baca file \"https://storage.googleapis.com/dqlab-dataset/CHAPTER%204%20-%20missing%20value%20-%20public%20data%20covid19%20.csv\"\n",
    "df = pd.read_csv(\"https://storage.googleapis.com/dqlab-dataset/CHAPTER%204%20-%20missing%20value%20-%20public%20data%20covid19%20.csv\")\n",
    "# Cetak nilai mean dan median awal \n",
    "print(\"Awal: mean = %f, median = %f.\" % (df[\"active\"].mean(), df[\"active\"].median()))\n",
    "# Isi missing value kolom active dengan median\n",
    "df_median = df[\"active\"].fillna(df[\"active\"].median())\n",
    "# Cetak nilai mean dan median awal setelah diisi dengan median\n",
    "print(\"Fillna median: mean = %f, median = %f.\" % (df_median.mean(), df_median.median()))\n",
    "# Isi missing value kolom active dengan mean\n",
    "df_mean = df[\"active\"].fillna(df[\"active\"].mean())\n",
    "# Cetak nilai mean dan median awal setelah diisi dengan mean\n",
    "print(\"Fillna mean: mean = %f, median = %f.\" % (df_mean.mean(), df_mean.median()))"
   ]
  },
  {
   "source": [
    "Di bagian ini akan menggunakan teknik interpolasi dalam mengisi nilai missing value pada suatu dataset.\n",
    "\n",
    "Data yang menggunakan interpolasi untuk mengisi data yang hilang adalah time series data, yang secara default akan diisi dengan interpolasi linear."
   ],
   "cell_type": "markdown",
   "metadata": {}
  },
  {
   "cell_type": "code",
   "execution_count": 16,
   "metadata": {},
   "outputs": [
    {
     "output_type": "stream",
     "name": "stdout",
     "text": [
      "Setelah diisi missing valuenya:\n 2020-01-01     9.0\n2020-01-02    14.0\n2020-01-05    19.0\n2020-01-07    24.0\n2020-01-10    27.0\n2020-01-12    30.0\n2020-01-15    33.0\n2020-01-17    36.5\n2020-01-16    40.0\n2020-01-20    45.0\n2020-01-22    52.0\n2020-01-25    75.0\n2020-01-28    75.0\n2020-01-30    75.0\ndtype: float64\n"
     ]
    }
   ],
   "source": [
    "import numpy as np\n",
    "import pandas as pd\n",
    "# Data\n",
    "ts = pd.Series({\n",
    "   \"2020-01-01\":9,\n",
    "   \"2020-01-02\":np.nan,\n",
    "   \"2020-01-05\":np.nan,\n",
    "   \"2020-01-07\":24,\n",
    "   \"2020-01-10\":np.nan,\n",
    "   \"2020-01-12\":np.nan,\n",
    "   \"2020-01-15\":33,\n",
    "   \"2020-01-17\":np.nan,\n",
    "   \"2020-01-16\":40,\n",
    "   \"2020-01-20\":45,\n",
    "   \"2020-01-22\":52,\n",
    "   \"2020-01-25\":75,\n",
    "   \"2020-01-28\":np.nan,\n",
    "   \"2020-01-30\":np.nan\n",
    "})\n",
    "# Isi missing value menggunakan interpolasi linier\n",
    "ts = ts.interpolate()\n",
    "# Cetak time series setelah interpolasi linier\n",
    "print(\"Setelah diisi missing valuenya:\\n\", ts)"
   ]
  },
  {
   "source": [
    "Diberikan dataset ‘retail_raw_test.csv’\n",
    "\n",
    "1. Baca dataset\n",
    "1. Tipe data diubah menjadi tipe yang seharusnya\n",
    "    * customer_id dari string ke int64,\n",
    "    * quantity dari string ke int64,\n",
    "    * item_price dari string ke int64\n",
    "1. transform product_value supaya bentuknya seragam dengan format PXXXX,        assign ke kolom baru \"product_id\", dan drop kolom \"product_value\", jika      terdapat nan gantilah dengan \"unknown\".\n",
    "1. tranform order_date menjadi value dengan format YYYY-mm-dd\n",
    "1. cek data hilang dari tiap kolom dan kemudian isi missing value\n",
    "    * di brand dengan \"no_brand\", dan\n",
    "    * cek dulu bagaimana missing value di city & province - isi missing            value di city dan province dengan \"unknown\"\n",
    "1. create column city/province dari gabungan city & province\n",
    "1. membuat index berdasarkan city_provice, order_date, customer_id, order_id, product_id (cek index)\n",
    "1. membuat kolom \"total_price\" sebagai hasil perkalian quantity dengan item_price\n",
    "1. slice data hanya untuk Jan 2019"
   ],
   "cell_type": "markdown",
   "metadata": {}
  },
  {
   "cell_type": "code",
   "execution_count": null,
   "metadata": {},
   "outputs": [],
   "source": [
    "import pandas as pd\n",
    "\n",
    "# 1. Baca dataset\n",
    "print(\"[1] BACA DATASET\")\n",
    "df = pd.read_csv(\"https://storage.googleapis.com/dqlab-dataset/retail_raw_test.csv\", low_memory=False)\n",
    "print(\"    Dataset:\\n\", df.head())\n",
    "print(\"    Info:\\n\", df.info())\n",
    "\n",
    "# 2. Ubah tipe data\n",
    "print(\"\\n[2] UBAH TIPE DATA\")\n",
    "df[\"customer_id\"] = df.apply(___ x: x.split(\"'\")[1]).astype(___)\n",
    "df[\"quantity\"] = ___.apply(___).astype(___)\n",
    "df[\"item_price\"] = ___\n",
    "print(\"    Tipe data:\\n\", df.dtypes)\n",
    "\n",
    "# 3. Transform \"product_value\" supaya bentuknya seragam dengan format \"PXXXX\", assign ke kolom baru \"product_id\", dan drop kolom \"product_value\", jika terdapat nan gantilah dengan \"unknown\"\n",
    "print(\"\\n[3] TRANSFORM product_value MENJADI product_id\")\n",
    "# Buat fungsi\n",
    "import math\n",
    "def impute_product_value(___):\n",
    "    if math.isnan(val):\n",
    "        return ___\n",
    "    else:\n",
    "        return 'P' + '{:0>4}'.format(str(val).split('.')[0])\n",
    "# Buat kolom \"product_id\"\n",
    "df[\"product_id\"] = ___.apply(___ x: ___(___))\n",
    "# Hapus kolom \"product_value\"\n",
    "df.drop([___], axis=1, inplace=___)\n",
    "# Cetak 5 data teratas\n",
    "print(df.head())\n",
    "\n",
    "# 4. Tranform order_date menjadi value dengan format \"YYYY-mm-dd\"\n",
    "print(\"\\n[4] TRANSFORM order_date MENJADI FORMAT YYYY-mm-dd\")\n",
    "months_dict = {\n",
    "   \"Jan\":\"01\",\n",
    "   \"___\":\"02\",\n",
    "   \"Mar\":\"__\",\n",
    "   \"Apr\":\"04\",\n",
    "   \"May\":\"05\",\n",
    "   \"___\":\"__\",\n",
    "   \"___\":\"__\",\n",
    "   \"Aug\":\"08\",\n",
    "   \"Sep\":\"09\",\n",
    "   \"Oct\":\"10\",\n",
    "   \"Nov\":\"11\",\n",
    "   \"Dec\":\"12\"\n",
    "}\n",
    "df[\"order_date\"] = pd.to_datetime(___.apply(___: str(x)[-4:] + \"-\" + months_dict[___(x)[:3]] + \"-\" + ___(x)[4:7]))\n",
    "print(\"    Tipe data:\\n\", ___)\n",
    "\n",
    "# 5. Mengatasi data yang hilang di beberapa kolom\n",
    "print(\"\\n[5] HANDLING MISSING VALUE\")\n",
    "# Kolom \"city\" dan \"province\" masih memiliki missing value, nilai yang hilang di kedua kolom ini diisi saja dengan \"unknown\"\n",
    "df[[\"city\",___]] = df[[___,___]].fillna(___)\n",
    "# Kolom brand juga masih memiliki missing value, Ganti value NaN menjadi \"no_brand\"\n",
    "df[\"brand\"] = ___.fillna(___)\n",
    "# Cek apakah masih terdapat missing value di seluruh kolom \n",
    "print(\"    Info:\\n\", ___)\n",
    "\n",
    "# 6. Membuat kolom baru \"city/province\" dengan menggabungkan kolom \"city\" dan kolom \"province\" dan delete kolom asalnya\n",
    "print(\"\\n[6] MEMBUAT KOLOM BARU city/province\")\n",
    "df[\"city/province\"] = df[\"city\"] + \"/\" + ___\n",
    "# drop kolom \"city\" dan \"province\" karena telah digabungkan\n",
    "df.drop([___,___], axis=1, inplace=True)\n",
    "# Cetak 5 data teratas\n",
    "print(___)\n",
    "\n",
    "# 7. Membuat hierarchical index yang terdiri dari kolom \"city/province\", \"order_date\", \"customer_id\", \"order_id\", \"product_id\"\n",
    "print(\"\\n[7] MEMBUAT HIERACHICAL INDEX\")\n",
    "df = ___.___([___,___,___,___,___])\n",
    "# urutkanlah berdasarkan index yang baru\n",
    "df = df.sort_index()\n",
    "# Cetak 5 data teratas\n",
    "print(___)\n",
    "\n",
    "# 8. Membuat kolom \"total_price\" yang formula nya perkalian antara kolom \"quantity\" dan kolom \"item_price\"\n",
    "print(\"\\n[8] MEMBUAT KOLOM total_price\")\n",
    "df[\"total_price\"] = df[___] * df[\"item_price\"]\n",
    "# Cetak 5 data teratas\n",
    "print(___)\n",
    "\n",
    "# 9. Slice dataset agar hanya terdapat data bulan Januari 2019\n",
    "print(\"\\n[9] SLICE DATASET UNTUK BULAN JANUARI 2019 SAJA\")\n",
    "idx = pd.IndexSlice\n",
    "df_jan2019 = df.loc[___[:, \"___\":\"___\"], :]\n",
    "print(\"Dataset akhir:\\n\", ___)\n",
    "\n",
    "# END OF PROJECT"
   ]
  }
 ]
}